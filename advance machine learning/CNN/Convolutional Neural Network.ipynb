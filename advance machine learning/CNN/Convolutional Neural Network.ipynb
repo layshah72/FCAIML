{
 "cells": [
  {
   "cell_type": "markdown",
   "metadata": {
    "colab_type": "text",
    "id": "EMefrVPCg-60"
   },
   "source": [
    "### Importing libraries"
   ]
  },
  {
   "cell_type": "code",
   "execution_count": 4,
   "metadata": {
    "colab": {},
    "colab_type": "code",
    "id": "sCV30xyVhFbE"
   },
   "outputs": [
    {
     "name": "stderr",
     "output_type": "stream",
     "text": [
      "2023-10-21 15:47:41.455728: I tensorflow/core/platform/cpu_feature_guard.cc:182] This TensorFlow binary is optimized to use available CPU instructions in performance-critical operations.\n",
      "To enable the following instructions: AVX2 FMA, in other operations, rebuild TensorFlow with the appropriate compiler flags.\n"
     ]
    }
   ],
   "source": [
    "\n",
    "import tensorflow as tf\n",
    "from keras.preprocessing.image import ImageDataGenerator\n"
   ]
  },
  {
   "cell_type": "code",
   "execution_count": 5,
   "metadata": {
    "colab": {},
    "colab_type": "code",
    "id": "FIleuCAjoFD8"
   },
   "outputs": [
    {
     "data": {
      "text/plain": [
       "'2.14.0'"
      ]
     },
     "execution_count": 5,
     "metadata": {},
     "output_type": "execute_result"
    }
   ],
   "source": [
    "tf.__version__"
   ]
  },
  {
   "cell_type": "markdown",
   "metadata": {
    "colab_type": "text",
    "id": "oxQxCBWyoGPE"
   },
   "source": [
    "## Data Preprocessing"
   ]
  },
  {
   "cell_type": "markdown",
   "metadata": {
    "colab_type": "text",
    "id": "MvE-heJNo3GG"
   },
   "source": [
    "### Preprocessing the Training set"
   ]
  },
  {
   "cell_type": "code",
   "execution_count": 7,
   "metadata": {
    "colab": {},
    "colab_type": "code",
    "id": "0koUcJMJpEBD"
   },
   "outputs": [
    {
     "name": "stdout",
     "output_type": "stream",
     "text": [
      "Found 16 images belonging to 2 classes.\n"
     ]
    }
   ],
   "source": [
    "train_datagen = ImageDataGenerator(rescale = 1./255,\n",
    "                                   shear_range = 0.2,\n",
    "                                   zoom_range = 0.2,\n",
    "                                   horizontal_flip = True)\n",
    "training_set = train_datagen.flow_from_directory('dataset/training_set',\n",
    "                                                 target_size = (64, 64),\n",
    "                                                 batch_size = 32,\n",
    "                                                 class_mode = 'binary')"
   ]
  },
  {
   "cell_type": "markdown",
   "metadata": {
    "colab_type": "text",
    "id": "mrCMmGw9pHys"
   },
   "source": [
    "### Preprocessing the Test set"
   ]
  },
  {
   "cell_type": "code",
   "execution_count": 8,
   "metadata": {
    "colab": {},
    "colab_type": "code",
    "id": "SH4WzfOhpKc3"
   },
   "outputs": [
    {
     "name": "stdout",
     "output_type": "stream",
     "text": [
      "Found 16 images belonging to 2 classes.\n"
     ]
    }
   ],
   "source": [
    "test_datagen = ImageDataGenerator(rescale = 1./255)\n",
    "test_set = test_datagen.flow_from_directory('dataset/test_set',\n",
    "                                            target_size = (64, 64),\n",
    "                                            batch_size = 32,\n",
    "                                            class_mode = 'binary')"
   ]
  },
  {
   "cell_type": "markdown",
   "metadata": {
    "colab_type": "text",
    "id": "af8O4l90gk7B"
   },
   "source": [
    "## Building the CNN"
   ]
  },
  {
   "cell_type": "markdown",
   "metadata": {
    "colab_type": "text",
    "id": "ces1gXY2lmoX"
   },
   "source": [
    "### Initialising the CNN"
   ]
  },
  {
   "cell_type": "code",
   "execution_count": 9,
   "metadata": {
    "colab": {},
    "colab_type": "code",
    "id": "SAUt4UMPlhLS"
   },
   "outputs": [],
   "source": [
    "cnn = tf.keras.models.Sequential()"
   ]
  },
  {
   "cell_type": "markdown",
   "metadata": {
    "colab_type": "text",
    "id": "u5YJj_XMl5LF"
   },
   "source": [
    "### Step 1 - Convolution"
   ]
  },
  {
   "cell_type": "code",
   "execution_count": 10,
   "metadata": {
    "colab": {},
    "colab_type": "code",
    "id": "XPzPrMckl-hV"
   },
   "outputs": [],
   "source": [
    "cnn.add(tf.keras.layers.Conv2D(filters=32, kernel_size=3, activation='relu', input_shape=[64, 64, 3]))"
   ]
  },
  {
   "cell_type": "markdown",
   "metadata": {
    "colab_type": "text",
    "id": "tf87FpvxmNOJ"
   },
   "source": [
    "### Step 2 - Pooling"
   ]
  },
  {
   "cell_type": "code",
   "execution_count": 11,
   "metadata": {
    "colab": {},
    "colab_type": "code",
    "id": "ncpqPl69mOac"
   },
   "outputs": [],
   "source": [
    "cnn.add(tf.keras.layers.MaxPool2D(pool_size=2, strides=2))"
   ]
  },
  {
   "cell_type": "markdown",
   "metadata": {
    "colab_type": "text",
    "id": "xaTOgD8rm4mU"
   },
   "source": [
    "### Adding a second convolutional layer"
   ]
  },
  {
   "cell_type": "code",
   "execution_count": 12,
   "metadata": {
    "colab": {},
    "colab_type": "code",
    "id": "i_-FZjn_m8gk"
   },
   "outputs": [],
   "source": [
    "cnn.add(tf.keras.layers.Conv2D(filters=32, kernel_size=3, activation='relu'))\n",
    "cnn.add(tf.keras.layers.MaxPool2D(pool_size=2, strides=2))"
   ]
  },
  {
   "cell_type": "markdown",
   "metadata": {
    "colab_type": "text",
    "id": "tmiEuvTunKfk"
   },
   "source": [
    "### Step 3 - Flattening"
   ]
  },
  {
   "cell_type": "code",
   "execution_count": 13,
   "metadata": {
    "colab": {},
    "colab_type": "code",
    "id": "6AZeOGCvnNZn"
   },
   "outputs": [],
   "source": [
    "cnn.add(tf.keras.layers.Flatten())"
   ]
  },
  {
   "cell_type": "markdown",
   "metadata": {
    "colab_type": "text",
    "id": "dAoSECOm203v"
   },
   "source": [
    "### Step 4 - Full Connection"
   ]
  },
  {
   "cell_type": "code",
   "execution_count": 14,
   "metadata": {
    "colab": {},
    "colab_type": "code",
    "id": "8GtmUlLd26Nq"
   },
   "outputs": [],
   "source": [
    "cnn.add(tf.keras.layers.Dense(units=128, activation='relu'))"
   ]
  },
  {
   "cell_type": "markdown",
   "metadata": {
    "colab_type": "text",
    "id": "yTldFvbX28Na"
   },
   "source": [
    "### Step 5 - Output Layer"
   ]
  },
  {
   "cell_type": "code",
   "execution_count": 15,
   "metadata": {
    "colab": {},
    "colab_type": "code",
    "id": "1p_Zj1Mc3Ko_"
   },
   "outputs": [],
   "source": [
    "cnn.add(tf.keras.layers.Dense(units=1, activation='sigmoid'))"
   ]
  },
  {
   "cell_type": "markdown",
   "metadata": {
    "colab_type": "text",
    "id": "D6XkI90snSDl"
   },
   "source": [
    "## Training the CNN"
   ]
  },
  {
   "cell_type": "markdown",
   "metadata": {
    "colab_type": "text",
    "id": "vfrFQACEnc6i"
   },
   "source": [
    "### Compiling the CNN"
   ]
  },
  {
   "cell_type": "code",
   "execution_count": 16,
   "metadata": {
    "colab": {},
    "colab_type": "code",
    "id": "NALksrNQpUlJ"
   },
   "outputs": [],
   "source": [
    "cnn.compile(optimizer = 'adam', loss = 'binary_crossentropy', metrics = ['accuracy'])"
   ]
  },
  {
   "cell_type": "markdown",
   "metadata": {
    "colab_type": "text",
    "id": "ehS-v3MIpX2h"
   },
   "source": [
    "### Training the CNN on the Training set and evaluating it on the Test set"
   ]
  },
  {
   "cell_type": "code",
   "execution_count": 17,
   "metadata": {
    "colab": {},
    "colab_type": "code",
    "id": "XUj1W4PJptta"
   },
   "outputs": [
    {
     "name": "stdout",
     "output_type": "stream",
     "text": [
      "Epoch 1/25\n",
      "1/1 [==============================] - 1s 1s/step - loss: 0.7031 - accuracy: 0.5000 - val_loss: 0.7309 - val_accuracy: 0.5000\n",
      "Epoch 2/25\n",
      "1/1 [==============================] - 0s 160ms/step - loss: 0.6721 - accuracy: 0.5625 - val_loss: 0.9767 - val_accuracy: 0.5000\n",
      "Epoch 3/25\n",
      "1/1 [==============================] - 0s 165ms/step - loss: 0.8740 - accuracy: 0.5000 - val_loss: 0.7302 - val_accuracy: 0.3125\n",
      "Epoch 4/25\n",
      "1/1 [==============================] - 0s 171ms/step - loss: 0.6108 - accuracy: 0.8125 - val_loss: 0.8181 - val_accuracy: 0.5000\n",
      "Epoch 5/25\n",
      "1/1 [==============================] - 0s 164ms/step - loss: 0.7092 - accuracy: 0.5000 - val_loss: 0.7667 - val_accuracy: 0.5000\n",
      "Epoch 6/25\n",
      "1/1 [==============================] - 0s 167ms/step - loss: 0.6385 - accuracy: 0.5625 - val_loss: 0.7289 - val_accuracy: 0.3125\n",
      "Epoch 7/25\n",
      "1/1 [==============================] - 0s 165ms/step - loss: 0.5981 - accuracy: 0.8750 - val_loss: 0.7501 - val_accuracy: 0.5000\n",
      "Epoch 8/25\n",
      "1/1 [==============================] - 0s 161ms/step - loss: 0.6022 - accuracy: 0.6875 - val_loss: 0.7694 - val_accuracy: 0.5000\n",
      "Epoch 9/25\n",
      "1/1 [==============================] - 0s 164ms/step - loss: 0.5626 - accuracy: 0.6875 - val_loss: 0.7629 - val_accuracy: 0.4375\n",
      "Epoch 10/25\n",
      "1/1 [==============================] - 0s 164ms/step - loss: 0.5619 - accuracy: 0.6875 - val_loss: 0.7537 - val_accuracy: 0.4375\n",
      "Epoch 11/25\n",
      "1/1 [==============================] - 0s 163ms/step - loss: 0.5179 - accuracy: 0.9375 - val_loss: 0.7637 - val_accuracy: 0.2500\n",
      "Epoch 12/25\n",
      "1/1 [==============================] - 0s 168ms/step - loss: 0.5085 - accuracy: 0.8750 - val_loss: 0.7774 - val_accuracy: 0.3125\n",
      "Epoch 13/25\n",
      "1/1 [==============================] - 0s 191ms/step - loss: 0.4863 - accuracy: 0.8125 - val_loss: 0.7878 - val_accuracy: 0.3750\n",
      "Epoch 14/25\n",
      "1/1 [==============================] - 0s 172ms/step - loss: 0.4481 - accuracy: 0.9375 - val_loss: 0.7990 - val_accuracy: 0.3750\n",
      "Epoch 15/25\n",
      "1/1 [==============================] - 0s 167ms/step - loss: 0.4069 - accuracy: 0.9375 - val_loss: 0.8226 - val_accuracy: 0.3750\n",
      "Epoch 16/25\n",
      "1/1 [==============================] - 0s 188ms/step - loss: 0.3661 - accuracy: 1.0000 - val_loss: 0.8460 - val_accuracy: 0.3750\n",
      "Epoch 17/25\n",
      "1/1 [==============================] - 0s 158ms/step - loss: 0.3454 - accuracy: 1.0000 - val_loss: 0.8812 - val_accuracy: 0.3125\n",
      "Epoch 18/25\n",
      "1/1 [==============================] - 0s 162ms/step - loss: 0.3368 - accuracy: 0.9375 - val_loss: 0.9177 - val_accuracy: 0.3125\n",
      "Epoch 19/25\n",
      "1/1 [==============================] - 0s 165ms/step - loss: 0.2923 - accuracy: 0.8750 - val_loss: 1.0034 - val_accuracy: 0.4375\n",
      "Epoch 20/25\n",
      "1/1 [==============================] - 0s 191ms/step - loss: 0.2512 - accuracy: 0.9375 - val_loss: 1.0054 - val_accuracy: 0.3750\n",
      "Epoch 21/25\n",
      "1/1 [==============================] - 0s 178ms/step - loss: 0.2672 - accuracy: 0.9375 - val_loss: 1.0577 - val_accuracy: 0.3125\n",
      "Epoch 22/25\n",
      "1/1 [==============================] - 0s 160ms/step - loss: 0.2042 - accuracy: 1.0000 - val_loss: 1.0863 - val_accuracy: 0.3750\n",
      "Epoch 23/25\n",
      "1/1 [==============================] - 0s 165ms/step - loss: 0.2016 - accuracy: 0.9375 - val_loss: 1.2052 - val_accuracy: 0.5000\n",
      "Epoch 24/25\n",
      "1/1 [==============================] - 0s 163ms/step - loss: 0.1524 - accuracy: 1.0000 - val_loss: 1.2330 - val_accuracy: 0.5000\n",
      "Epoch 25/25\n",
      "1/1 [==============================] - 0s 170ms/step - loss: 0.1324 - accuracy: 1.0000 - val_loss: 1.2427 - val_accuracy: 0.4375\n"
     ]
    },
    {
     "data": {
      "text/plain": [
       "<keras.src.callbacks.History at 0x7fa8d854b970>"
      ]
     },
     "execution_count": 17,
     "metadata": {},
     "output_type": "execute_result"
    }
   ],
   "source": [
    "cnn.fit(x = training_set, validation_data = test_set, epochs = 25)"
   ]
  },
  {
   "cell_type": "markdown",
   "metadata": {
    "colab_type": "text",
    "id": "U3PZasO0006Z"
   },
   "source": [
    "## Making a single prediction"
   ]
  },
  {
   "cell_type": "code",
   "execution_count": 18,
   "metadata": {
    "colab": {},
    "colab_type": "code",
    "id": "gsSiWEJY1BPB"
   },
   "outputs": [
    {
     "name": "stdout",
     "output_type": "stream",
     "text": [
      "1/1 [==============================] - 0s 83ms/step\n",
      "cat\n"
     ]
    }
   ],
   "source": [
    "import numpy as np\n",
    "from keras.utils import load_img, img_to_array\n",
    "\n",
    "test_image=load_img('dataset/single_prediction/cat_or_dog_1.jpg', target_size=(64,64))\n",
    "test_image=img_to_array(test_image)\n",
    "test_image = np.expand_dims(test_image, axis = 0)\n",
    "result = cnn.predict(test_image)\n",
    "training_set.class_indices\n",
    "if result[0][0] == 1:\n",
    "  prediction = 'dog'\n",
    "else:\n",
    "  prediction = 'cat'\n",
    "\n",
    "print(prediction)"
   ]
  },
  {
   "cell_type": "code",
   "execution_count": null,
   "metadata": {},
   "outputs": [],
   "source": []
  }
 ],
 "metadata": {
  "colab": {
   "collapsed_sections": [],
   "name": "convolutional_neural_network.ipynb",
   "provenance": [],
   "toc_visible": true
  },
  "kernelspec": {
   "display_name": "Python 3 (ipykernel)",
   "language": "python",
   "name": "python3"
  },
  "language_info": {
   "codemirror_mode": {
    "name": "ipython",
    "version": 3
   },
   "file_extension": ".py",
   "mimetype": "text/x-python",
   "name": "python",
   "nbconvert_exporter": "python",
   "pygments_lexer": "ipython3",
   "version": "3.10.9"
  },
  "vscode": {
   "interpreter": {
    "hash": "7172489404153e401551447a6add1098f5ea319aeba3a174a7674b5487a0d64a"
   }
  }
 },
 "nbformat": 4,
 "nbformat_minor": 1
}
