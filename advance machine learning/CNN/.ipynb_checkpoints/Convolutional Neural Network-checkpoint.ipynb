{
 "cells": [
  {
   "cell_type": "markdown",
   "metadata": {
    "colab_type": "text",
    "id": "EMefrVPCg-60"
   },
   "source": [
    "### Importing libraries"
   ]
  },
  {
   "cell_type": "code",
   "execution_count": 1,
   "metadata": {
    "colab": {},
    "colab_type": "code",
    "id": "sCV30xyVhFbE"
   },
   "outputs": [
    {
     "ename": "ModuleNotFoundError",
     "evalue": "No module named 'tensorflow'",
     "output_type": "error",
     "traceback": [
      "\u001b[0;31m---------------------------------------------------------------------------\u001b[0m",
      "\u001b[0;31mModuleNotFoundError\u001b[0m                       Traceback (most recent call last)",
      "Cell \u001b[0;32mIn[1], line 1\u001b[0m\n\u001b[0;32m----> 1\u001b[0m \u001b[38;5;28;01mimport\u001b[39;00m \u001b[38;5;21;01mtensorflow\u001b[39;00m \u001b[38;5;28;01mas\u001b[39;00m \u001b[38;5;21;01mtf\u001b[39;00m\n\u001b[1;32m      2\u001b[0m \u001b[38;5;28;01mfrom\u001b[39;00m \u001b[38;5;21;01mkeras\u001b[39;00m\u001b[38;5;21;01m.\u001b[39;00m\u001b[38;5;21;01mpreprocessing\u001b[39;00m\u001b[38;5;21;01m.\u001b[39;00m\u001b[38;5;21;01mimage\u001b[39;00m \u001b[38;5;28;01mimport\u001b[39;00m ImageDataGenerator\n",
      "\u001b[0;31mModuleNotFoundError\u001b[0m: No module named 'tensorflow'"
     ]
    }
   ],
   "source": [
    "import tensorflow as tf\n",
    "from keras.preprocessing.image import ImageDataGenerator\n"
   ]
  },
  {
   "cell_type": "code",
   "execution_count": 2,
   "metadata": {
    "colab": {},
    "colab_type": "code",
    "id": "FIleuCAjoFD8"
   },
   "outputs": [
    {
     "ename": "NameError",
     "evalue": "name 'tf' is not defined",
     "output_type": "error",
     "traceback": [
      "\u001b[0;31m---------------------------------------------------------------------------\u001b[0m",
      "\u001b[0;31mNameError\u001b[0m                                 Traceback (most recent call last)",
      "Cell \u001b[0;32mIn[2], line 1\u001b[0m\n\u001b[0;32m----> 1\u001b[0m \u001b[43mtf\u001b[49m\u001b[38;5;241m.\u001b[39m__version__\n",
      "\u001b[0;31mNameError\u001b[0m: name 'tf' is not defined"
     ]
    }
   ],
   "source": [
    "tf.__version__"
   ]
  },
  {
   "cell_type": "markdown",
   "metadata": {
    "colab_type": "text",
    "id": "oxQxCBWyoGPE"
   },
   "source": [
    "## Data Preprocessing"
   ]
  },
  {
   "cell_type": "markdown",
   "metadata": {
    "colab_type": "text",
    "id": "MvE-heJNo3GG"
   },
   "source": [
    "### Preprocessing the Training set"
   ]
  },
  {
   "cell_type": "code",
   "execution_count": 17,
   "metadata": {
    "colab": {},
    "colab_type": "code",
    "id": "0koUcJMJpEBD"
   },
   "outputs": [
    {
     "name": "stdout",
     "output_type": "stream",
     "text": [
      "Found 16 images belonging to 2 classes.\n"
     ]
    }
   ],
   "source": [
    "train_datagen = ImageDataGenerator(rescale = 1./255,\n",
    "                                   shear_range = 0.2,\n",
    "                                   zoom_range = 0.2,\n",
    "                                   horizontal_flip = True)\n",
    "training_set = train_datagen.flow_from_directory('dataset/training_set',\n",
    "                                                 target_size = (64, 64),\n",
    "                                                 batch_size = 32,\n",
    "                                                 class_mode = 'binary')"
   ]
  },
  {
   "cell_type": "markdown",
   "metadata": {
    "colab_type": "text",
    "id": "mrCMmGw9pHys"
   },
   "source": [
    "### Preprocessing the Test set"
   ]
  },
  {
   "cell_type": "code",
   "execution_count": 18,
   "metadata": {
    "colab": {},
    "colab_type": "code",
    "id": "SH4WzfOhpKc3"
   },
   "outputs": [
    {
     "name": "stdout",
     "output_type": "stream",
     "text": [
      "Found 16 images belonging to 2 classes.\n"
     ]
    }
   ],
   "source": [
    "test_datagen = ImageDataGenerator(rescale = 1./255)\n",
    "test_set = test_datagen.flow_from_directory('dataset/test_set',\n",
    "                                            target_size = (64, 64),\n",
    "                                            batch_size = 32,\n",
    "                                            class_mode = 'binary')"
   ]
  },
  {
   "cell_type": "markdown",
   "metadata": {
    "colab_type": "text",
    "id": "af8O4l90gk7B"
   },
   "source": [
    "## Building the CNN"
   ]
  },
  {
   "cell_type": "markdown",
   "metadata": {
    "colab_type": "text",
    "id": "ces1gXY2lmoX"
   },
   "source": [
    "### Initialising the CNN"
   ]
  },
  {
   "cell_type": "code",
   "execution_count": 19,
   "metadata": {
    "colab": {},
    "colab_type": "code",
    "id": "SAUt4UMPlhLS"
   },
   "outputs": [],
   "source": [
    "cnn = tf.keras.models.Sequential()"
   ]
  },
  {
   "cell_type": "markdown",
   "metadata": {
    "colab_type": "text",
    "id": "u5YJj_XMl5LF"
   },
   "source": [
    "### Step 1 - Convolution"
   ]
  },
  {
   "cell_type": "code",
   "execution_count": 20,
   "metadata": {
    "colab": {},
    "colab_type": "code",
    "id": "XPzPrMckl-hV"
   },
   "outputs": [],
   "source": [
    "cnn.add(tf.keras.layers.Conv2D(filters=32, kernel_size=3, activation='relu', input_shape=[64, 64, 3]))"
   ]
  },
  {
   "cell_type": "markdown",
   "metadata": {
    "colab_type": "text",
    "id": "tf87FpvxmNOJ"
   },
   "source": [
    "### Step 2 - Pooling"
   ]
  },
  {
   "cell_type": "code",
   "execution_count": 21,
   "metadata": {
    "colab": {},
    "colab_type": "code",
    "id": "ncpqPl69mOac"
   },
   "outputs": [],
   "source": [
    "cnn.add(tf.keras.layers.MaxPool2D(pool_size=2, strides=2))"
   ]
  },
  {
   "cell_type": "markdown",
   "metadata": {
    "colab_type": "text",
    "id": "xaTOgD8rm4mU"
   },
   "source": [
    "### Adding a second convolutional layer"
   ]
  },
  {
   "cell_type": "code",
   "execution_count": 22,
   "metadata": {
    "colab": {},
    "colab_type": "code",
    "id": "i_-FZjn_m8gk"
   },
   "outputs": [],
   "source": [
    "cnn.add(tf.keras.layers.Conv2D(filters=32, kernel_size=3, activation='relu'))\n",
    "cnn.add(tf.keras.layers.MaxPool2D(pool_size=2, strides=2))"
   ]
  },
  {
   "cell_type": "markdown",
   "metadata": {
    "colab_type": "text",
    "id": "tmiEuvTunKfk"
   },
   "source": [
    "### Step 3 - Flattening"
   ]
  },
  {
   "cell_type": "code",
   "execution_count": 23,
   "metadata": {
    "colab": {},
    "colab_type": "code",
    "id": "6AZeOGCvnNZn"
   },
   "outputs": [],
   "source": [
    "cnn.add(tf.keras.layers.Flatten())"
   ]
  },
  {
   "cell_type": "markdown",
   "metadata": {
    "colab_type": "text",
    "id": "dAoSECOm203v"
   },
   "source": [
    "### Step 4 - Full Connection"
   ]
  },
  {
   "cell_type": "code",
   "execution_count": 24,
   "metadata": {
    "colab": {},
    "colab_type": "code",
    "id": "8GtmUlLd26Nq"
   },
   "outputs": [],
   "source": [
    "cnn.add(tf.keras.layers.Dense(units=128, activation='relu'))"
   ]
  },
  {
   "cell_type": "markdown",
   "metadata": {
    "colab_type": "text",
    "id": "yTldFvbX28Na"
   },
   "source": [
    "### Step 5 - Output Layer"
   ]
  },
  {
   "cell_type": "code",
   "execution_count": 25,
   "metadata": {
    "colab": {},
    "colab_type": "code",
    "id": "1p_Zj1Mc3Ko_"
   },
   "outputs": [],
   "source": [
    "cnn.add(tf.keras.layers.Dense(units=1, activation='sigmoid'))"
   ]
  },
  {
   "cell_type": "markdown",
   "metadata": {
    "colab_type": "text",
    "id": "D6XkI90snSDl"
   },
   "source": [
    "## Training the CNN"
   ]
  },
  {
   "cell_type": "markdown",
   "metadata": {
    "colab_type": "text",
    "id": "vfrFQACEnc6i"
   },
   "source": [
    "### Compiling the CNN"
   ]
  },
  {
   "cell_type": "code",
   "execution_count": 26,
   "metadata": {
    "colab": {},
    "colab_type": "code",
    "id": "NALksrNQpUlJ"
   },
   "outputs": [],
   "source": [
    "cnn.compile(optimizer = 'adam', loss = 'binary_crossentropy', metrics = ['accuracy'])"
   ]
  },
  {
   "cell_type": "markdown",
   "metadata": {
    "colab_type": "text",
    "id": "ehS-v3MIpX2h"
   },
   "source": [
    "### Training the CNN on the Training set and evaluating it on the Test set"
   ]
  },
  {
   "cell_type": "code",
   "execution_count": 27,
   "metadata": {
    "colab": {},
    "colab_type": "code",
    "id": "XUj1W4PJptta"
   },
   "outputs": [
    {
     "name": "stdout",
     "output_type": "stream",
     "text": [
      "Epoch 1/25\n",
      "1/1 [==============================] - 1s 1s/step - loss: 0.6995 - accuracy: 0.5625 - val_loss: 0.9449 - val_accuracy: 0.5000\n",
      "Epoch 2/25\n",
      "1/1 [==============================] - 0s 190ms/step - loss: 0.8884 - accuracy: 0.5000 - val_loss: 0.7111 - val_accuracy: 0.5000\n",
      "Epoch 3/25\n",
      "1/1 [==============================] - 0s 179ms/step - loss: 0.6577 - accuracy: 0.6250 - val_loss: 0.7778 - val_accuracy: 0.5000\n",
      "Epoch 4/25\n",
      "1/1 [==============================] - 0s 176ms/step - loss: 0.7233 - accuracy: 0.5000 - val_loss: 0.7331 - val_accuracy: 0.5000\n",
      "Epoch 5/25\n",
      "1/1 [==============================] - 0s 173ms/step - loss: 0.6633 - accuracy: 0.5000 - val_loss: 0.7078 - val_accuracy: 0.4375\n",
      "Epoch 6/25\n",
      "1/1 [==============================] - 0s 174ms/step - loss: 0.6400 - accuracy: 0.6875 - val_loss: 0.7133 - val_accuracy: 0.5000\n",
      "Epoch 7/25\n",
      "1/1 [==============================] - 0s 170ms/step - loss: 0.6436 - accuracy: 0.7500 - val_loss: 0.7257 - val_accuracy: 0.4375\n",
      "Epoch 8/25\n",
      "1/1 [==============================] - 0s 169ms/step - loss: 0.6156 - accuracy: 0.6875 - val_loss: 0.7277 - val_accuracy: 0.5000\n",
      "Epoch 9/25\n",
      "1/1 [==============================] - 0s 164ms/step - loss: 0.6187 - accuracy: 0.5625 - val_loss: 0.7255 - val_accuracy: 0.4375\n",
      "Epoch 10/25\n",
      "1/1 [==============================] - 0s 197ms/step - loss: 0.5729 - accuracy: 0.8125 - val_loss: 0.7270 - val_accuracy: 0.5000\n",
      "Epoch 11/25\n",
      "1/1 [==============================] - 0s 171ms/step - loss: 0.5732 - accuracy: 0.8750 - val_loss: 0.7399 - val_accuracy: 0.4375\n",
      "Epoch 12/25\n",
      "1/1 [==============================] - 0s 175ms/step - loss: 0.5236 - accuracy: 0.8750 - val_loss: 0.7508 - val_accuracy: 0.3750\n",
      "Epoch 13/25\n",
      "1/1 [==============================] - 0s 179ms/step - loss: 0.5177 - accuracy: 0.8750 - val_loss: 0.7583 - val_accuracy: 0.4375\n",
      "Epoch 14/25\n",
      "1/1 [==============================] - 0s 168ms/step - loss: 0.4531 - accuracy: 0.9375 - val_loss: 0.7833 - val_accuracy: 0.4375\n",
      "Epoch 15/25\n",
      "1/1 [==============================] - 0s 185ms/step - loss: 0.4418 - accuracy: 0.8750 - val_loss: 0.8001 - val_accuracy: 0.5000\n",
      "Epoch 16/25\n",
      "1/1 [==============================] - 0s 207ms/step - loss: 0.4079 - accuracy: 1.0000 - val_loss: 0.8292 - val_accuracy: 0.3125\n",
      "Epoch 17/25\n",
      "1/1 [==============================] - 0s 174ms/step - loss: 0.3639 - accuracy: 1.0000 - val_loss: 0.8623 - val_accuracy: 0.3125\n",
      "Epoch 18/25\n",
      "1/1 [==============================] - 0s 164ms/step - loss: 0.4106 - accuracy: 0.9375 - val_loss: 0.9180 - val_accuracy: 0.5000\n",
      "Epoch 19/25\n",
      "1/1 [==============================] - 0s 167ms/step - loss: 0.3931 - accuracy: 0.8125 - val_loss: 0.9523 - val_accuracy: 0.5000\n",
      "Epoch 20/25\n",
      "1/1 [==============================] - 0s 188ms/step - loss: 0.3796 - accuracy: 0.9375 - val_loss: 0.9802 - val_accuracy: 0.5000\n",
      "Epoch 21/25\n",
      "1/1 [==============================] - 0s 182ms/step - loss: 0.2896 - accuracy: 0.9375 - val_loss: 1.0453 - val_accuracy: 0.5000\n",
      "Epoch 22/25\n",
      "1/1 [==============================] - 0s 169ms/step - loss: 0.2140 - accuracy: 0.9375 - val_loss: 1.0861 - val_accuracy: 0.5000\n",
      "Epoch 23/25\n",
      "1/1 [==============================] - 0s 173ms/step - loss: 0.1934 - accuracy: 1.0000 - val_loss: 1.1892 - val_accuracy: 0.2500\n",
      "Epoch 24/25\n",
      "1/1 [==============================] - 0s 167ms/step - loss: 0.1933 - accuracy: 0.9375 - val_loss: 1.2553 - val_accuracy: 0.5000\n",
      "Epoch 25/25\n",
      "1/1 [==============================] - 0s 171ms/step - loss: 0.1746 - accuracy: 1.0000 - val_loss: 1.2787 - val_accuracy: 0.5000\n"
     ]
    },
    {
     "data": {
      "text/plain": [
       "<keras.callbacks.History at 0x7fac8468a5b0>"
      ]
     },
     "execution_count": 27,
     "metadata": {},
     "output_type": "execute_result"
    }
   ],
   "source": [
    "cnn.fit(x = training_set, validation_data = test_set, epochs = 25)"
   ]
  },
  {
   "cell_type": "markdown",
   "metadata": {
    "colab_type": "text",
    "id": "U3PZasO0006Z"
   },
   "source": [
    "## Making a single prediction"
   ]
  },
  {
   "cell_type": "code",
   "execution_count": 35,
   "metadata": {
    "colab": {},
    "colab_type": "code",
    "id": "gsSiWEJY1BPB"
   },
   "outputs": [
    {
     "name": "stdout",
     "output_type": "stream",
     "text": [
      "1/1 [==============================] - 0s 23ms/step\n",
      "cat\n"
     ]
    }
   ],
   "source": [
    "import numpy as np\n",
    "from keras.utils import load_img, img_to_array\n",
    "\n",
    "test_image=load_img('dataset/single_prediction/cat_or_dog_1.jpg', target_size=(64,64))\n",
    "test_image=img_to_array(test_image)\n",
    "test_image = np.expand_dims(test_image, axis = 0)\n",
    "result = cnn.predict(test_image)\n",
    "training_set.class_indices\n",
    "if result[0][0] == 1:\n",
    "  prediction = 'dog'\n",
    "else:\n",
    "  prediction = 'cat'\n",
    "\n",
    "print(prediction)"
   ]
  }
 ],
 "metadata": {
  "colab": {
   "collapsed_sections": [],
   "name": "convolutional_neural_network.ipynb",
   "provenance": [],
   "toc_visible": true
  },
  "kernelspec": {
   "display_name": "Python 3 (ipykernel)",
   "language": "python",
   "name": "python3"
  },
  "language_info": {
   "codemirror_mode": {
    "name": "ipython",
    "version": 3
   },
   "file_extension": ".py",
   "mimetype": "text/x-python",
   "name": "python",
   "nbconvert_exporter": "python",
   "pygments_lexer": "ipython3",
   "version": "3.10.9"
  },
  "vscode": {
   "interpreter": {
    "hash": "7172489404153e401551447a6add1098f5ea319aeba3a174a7674b5487a0d64a"
   }
  }
 },
 "nbformat": 4,
 "nbformat_minor": 1
}
